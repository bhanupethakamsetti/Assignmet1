{
  "nbformat": 4,
  "nbformat_minor": 0,
  "metadata": {
    "colab": {
      "provenance": [],
      "authorship_tag": "ABX9TyMjGIGTM3qK6nTvLeFdAALh",
      "include_colab_link": true
    },
    "kernelspec": {
      "name": "python3",
      "display_name": "Python 3"
    },
    "language_info": {
      "name": "python"
    }
  },
  "cells": [
    {
      "cell_type": "markdown",
      "metadata": {
        "id": "view-in-github",
        "colab_type": "text"
      },
      "source": [
        "<a href=\"https://colab.research.google.com/github/bhanupethakamsetti/Assignmet1/blob/main/practice_python.ipynb\" target=\"_parent\"><img src=\"https://colab.research.google.com/assets/colab-badge.svg\" alt=\"Open In Colab\"/></a>"
      ]
    },
    {
      "cell_type": "code",
      "execution_count": 12,
      "metadata": {
        "colab": {
          "base_uri": "https://localhost:8080/"
        },
        "id": "sZStADZQvkPE",
        "outputId": "759d223e-d194-4d73-f7f2-29b8eaccf449"
      },
      "outputs": [
        {
          "output_type": "stream",
          "name": "stdout",
          "text": [
            "Good Evening,all\n",
            "Welcome all,Good Evening\n",
            "Hello welcome all\n",
            "Hello welcome all,Good Evening,Thank You\n",
            "Hello:welcome all\n"
          ]
        }
      ],
      "source": [
        "print(\"Good %s,all\"%\"Evening\")\n",
        "\n",
        "print(\"Welcome %s,Good %s\" %(\"all\",\"Evening\"))\n",
        "\n",
        "print(\"Hello {}\".format(\"welcome all\"))\n",
        "\n",
        "print(\"Hello {0},Good {2},Thank {1}\".format(\"welcome all\",\"You\",\"Evening\"))\n",
        "\n",
        "print(\"Hello:{a}\".format(a=\"welcome all\"))\n",
        "\n",
        "\n"
      ]
    },
    {
      "cell_type": "code",
      "source": [
        "name=\"Bhanu\"\n",
        "print(\"My name is\"+name)\n",
        "\n",
        "n1=10\n",
        "n2=12\n",
        "print(f\"The addition of two values is {n1+n2}\")"
      ],
      "metadata": {
        "colab": {
          "base_uri": "https://localhost:8080/"
        },
        "id": "QH7vxKEN0bk2",
        "outputId": "61b71e95-6753-4e50-8037-ee41dabe1bf5"
      },
      "execution_count": 21,
      "outputs": [
        {
          "output_type": "stream",
          "name": "stdout",
          "text": [
            "My name isBhanu\n",
            "The addition of two values is 22\n"
          ]
        }
      ]
    },
    {
      "cell_type": "code",
      "source": [
        "#lambda function\n",
        "x1=lambda x:x+100\n",
        "print(x1(3))"
      ],
      "metadata": {
        "colab": {
          "base_uri": "https://localhost:8080/"
        },
        "id": "2RpX-Ydp3DNE",
        "outputId": "486868a1-5027-41c6-aec1-6623e408e43e"
      },
      "execution_count": 22,
      "outputs": [
        {
          "output_type": "stream",
          "name": "stdout",
          "text": [
            "103\n"
          ]
        }
      ]
    },
    {
      "cell_type": "code",
      "source": [
        "z=lambda x,y,z:x+y*z\n",
        "print(z(2,3,4))"
      ],
      "metadata": {
        "colab": {
          "base_uri": "https://localhost:8080/"
        },
        "id": "Y7vOLwmN42wa",
        "outputId": "f33fc376-6f74-4467-9373-6b89cb98c4fa"
      },
      "execution_count": 23,
      "outputs": [
        {
          "output_type": "stream",
          "name": "stdout",
          "text": [
            "14\n"
          ]
        }
      ]
    },
    {
      "cell_type": "code",
      "source": [
        "print((lambda a,b,c:a+b-c)(1,2,3))"
      ],
      "metadata": {
        "colab": {
          "base_uri": "https://localhost:8080/"
        },
        "id": "1F3x8KEC5Z8q",
        "outputId": "90eea7bb-b5be-4899-b4a4-f0c126fe350f"
      },
      "execution_count": 27,
      "outputs": [
        {
          "output_type": "stream",
          "name": "stdout",
          "text": [
            "0\n"
          ]
        }
      ]
    },
    {
      "cell_type": "code",
      "source": [
        "def add():\n",
        " print((lambda a,b,c:a+b-c)(1,2,3))\n",
        "add()"
      ],
      "metadata": {
        "colab": {
          "base_uri": "https://localhost:8080/"
        },
        "id": "z70j0Idg6Lbk",
        "outputId": "6353e458-5524-41e6-b732-1ba0c015ab24"
      },
      "execution_count": 28,
      "outputs": [
        {
          "output_type": "stream",
          "name": "stdout",
          "text": [
            "0\n"
          ]
        }
      ]
    },
    {
      "cell_type": "code",
      "source": [
        "data=[lambda x=x:x*10 for x in range(1,10)]\n",
        "for data1 in data:\n",
        "  print(data1())"
      ],
      "metadata": {
        "colab": {
          "base_uri": "https://localhost:8080/"
        },
        "id": "gt_iiQ3TAoS5",
        "outputId": "200793f2-8b47-4157-b160-1ce34511eab3"
      },
      "execution_count": 29,
      "outputs": [
        {
          "output_type": "stream",
          "name": "stdout",
          "text": [
            "10\n",
            "20\n",
            "30\n",
            "40\n",
            "50\n",
            "60\n",
            "70\n",
            "80\n",
            "90\n"
          ]
        }
      ]
    },
    {
      "cell_type": "code",
      "source": [
        "data=[lambda x=x:x*10 for x in range (1,10)]\n",
        "for data1 in data:\n",
        "  print(data1())"
      ],
      "metadata": {
        "colab": {
          "base_uri": "https://localhost:8080/"
        },
        "id": "FN5jTCQwBJJP",
        "outputId": "eeab0a6b-7d2b-4995-f757-55b1e0e53590"
      },
      "execution_count": 30,
      "outputs": [
        {
          "output_type": "stream",
          "name": "stdout",
          "text": [
            "10\n",
            "20\n",
            "30\n",
            "40\n",
            "50\n",
            "60\n",
            "70\n",
            "80\n",
            "90\n"
          ]
        }
      ]
    },
    {
      "cell_type": "code",
      "source": [
        "table=[lambda x=x:2*x for x in range(1,11)]\n",
        "for i in table:\n",
        "  print(i())"
      ],
      "metadata": {
        "colab": {
          "base_uri": "https://localhost:8080/"
        },
        "id": "sX8NqYiDCV6A",
        "outputId": "8d1de94a-f4f5-4ed9-f6aa-2e84e8003e6c"
      },
      "execution_count": 34,
      "outputs": [
        {
          "output_type": "stream",
          "name": "stdout",
          "text": [
            "2\n",
            "4\n",
            "6\n",
            "8\n",
            "10\n",
            "12\n",
            "14\n",
            "16\n",
            "18\n",
            "20\n"
          ]
        }
      ]
    },
    {
      "cell_type": "code",
      "source": [],
      "metadata": {
        "id": "zGajoiVeCi45"
      },
      "execution_count": null,
      "outputs": []
    }
  ]
}