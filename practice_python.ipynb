{
  "nbformat": 4,
  "nbformat_minor": 0,
  "metadata": {
    "colab": {
      "provenance": [],
      "authorship_tag": "ABX9TyNsF0OhTn4/zuvtMN3ADzGg",
      "include_colab_link": true
    },
    "kernelspec": {
      "name": "python3",
      "display_name": "Python 3"
    },
    "language_info": {
      "name": "python"
    }
  },
  "cells": [
    {
      "cell_type": "markdown",
      "metadata": {
        "id": "view-in-github",
        "colab_type": "text"
      },
      "source": [
        "<a href=\"https://colab.research.google.com/github/bhanupethakamsetti/Assignmet1/blob/main/practice_python.ipynb\" target=\"_parent\"><img src=\"https://colab.research.google.com/assets/colab-badge.svg\" alt=\"Open In Colab\"/></a>"
      ]
    },
    {
      "cell_type": "code",
      "execution_count": null,
      "metadata": {
        "colab": {
          "base_uri": "https://localhost:8080/"
        },
        "id": "sZStADZQvkPE",
        "outputId": "759d223e-d194-4d73-f7f2-29b8eaccf449"
      },
      "outputs": [
        {
          "output_type": "stream",
          "name": "stdout",
          "text": [
            "Good Evening,all\n",
            "Welcome all,Good Evening\n",
            "Hello welcome all\n",
            "Hello welcome all,Good Evening,Thank You\n",
            "Hello:welcome all\n"
          ]
        }
      ],
      "source": [
        "print(\"Good %s,all\"%\"Evening\")\n",
        "\n",
        "print(\"Welcome %s,Good %s\" %(\"all\",\"Evening\"))\n",
        "\n",
        "print(\"Hello {}\".format(\"welcome all\"))\n",
        "\n",
        "print(\"Hello {0},Good {2},Thank {1}\".format(\"welcome all\",\"You\",\"Evening\"))\n",
        "\n",
        "print(\"Hello:{a}\".format(a=\"welcome all\"))\n",
        "\n",
        "\n"
      ]
    },
    {
      "cell_type": "code",
      "source": [
        "name=\"Bhanu\"\n",
        "print(\"My name is\"+name)\n",
        "\n",
        "n1=10\n",
        "n2=12\n",
        "print(f\"The addition of two values is {n1+n2}\")"
      ],
      "metadata": {
        "colab": {
          "base_uri": "https://localhost:8080/"
        },
        "id": "QH7vxKEN0bk2",
        "outputId": "61b71e95-6753-4e50-8037-ee41dabe1bf5"
      },
      "execution_count": null,
      "outputs": [
        {
          "output_type": "stream",
          "name": "stdout",
          "text": [
            "My name isBhanu\n",
            "The addition of two values is 22\n"
          ]
        }
      ]
    },
    {
      "cell_type": "code",
      "source": [
        "#lambda function\n",
        "x1=lambda x:x+100\n",
        "print(x1(3))"
      ],
      "metadata": {
        "colab": {
          "base_uri": "https://localhost:8080/"
        },
        "id": "2RpX-Ydp3DNE",
        "outputId": "486868a1-5027-41c6-aec1-6623e408e43e"
      },
      "execution_count": null,
      "outputs": [
        {
          "output_type": "stream",
          "name": "stdout",
          "text": [
            "103\n"
          ]
        }
      ]
    },
    {
      "cell_type": "code",
      "source": [
        "z=lambda x,y,z:x+y*z\n",
        "print(z(2,3,4))"
      ],
      "metadata": {
        "colab": {
          "base_uri": "https://localhost:8080/"
        },
        "id": "Y7vOLwmN42wa",
        "outputId": "f33fc376-6f74-4467-9373-6b89cb98c4fa"
      },
      "execution_count": null,
      "outputs": [
        {
          "output_type": "stream",
          "name": "stdout",
          "text": [
            "14\n"
          ]
        }
      ]
    },
    {
      "cell_type": "code",
      "source": [
        "print((lambda a,b,c:a+b-c)(1,2,3))"
      ],
      "metadata": {
        "colab": {
          "base_uri": "https://localhost:8080/"
        },
        "id": "1F3x8KEC5Z8q",
        "outputId": "90eea7bb-b5be-4899-b4a4-f0c126fe350f"
      },
      "execution_count": null,
      "outputs": [
        {
          "output_type": "stream",
          "name": "stdout",
          "text": [
            "0\n"
          ]
        }
      ]
    },
    {
      "cell_type": "code",
      "source": [
        "def add():\n",
        " print((lambda a,b,c:a+b-c)(1,2,3))\n",
        "add()"
      ],
      "metadata": {
        "colab": {
          "base_uri": "https://localhost:8080/"
        },
        "id": "z70j0Idg6Lbk",
        "outputId": "6353e458-5524-41e6-b732-1ba0c015ab24"
      },
      "execution_count": null,
      "outputs": [
        {
          "output_type": "stream",
          "name": "stdout",
          "text": [
            "0\n"
          ]
        }
      ]
    },
    {
      "cell_type": "code",
      "source": [
        "data=[lambda x=x:x*10 for x in range(1,10)]\n",
        "for data1 in data:\n",
        "  print(data1())"
      ],
      "metadata": {
        "colab": {
          "base_uri": "https://localhost:8080/"
        },
        "id": "gt_iiQ3TAoS5",
        "outputId": "200793f2-8b47-4157-b160-1ce34511eab3"
      },
      "execution_count": null,
      "outputs": [
        {
          "output_type": "stream",
          "name": "stdout",
          "text": [
            "10\n",
            "20\n",
            "30\n",
            "40\n",
            "50\n",
            "60\n",
            "70\n",
            "80\n",
            "90\n"
          ]
        }
      ]
    },
    {
      "cell_type": "code",
      "source": [
        "data=[lambda x=x:x*10 for x in range (1,10)]\n",
        "for data1 in data:\n",
        "  print(data1())"
      ],
      "metadata": {
        "colab": {
          "base_uri": "https://localhost:8080/"
        },
        "id": "FN5jTCQwBJJP",
        "outputId": "eeab0a6b-7d2b-4995-f757-55b1e0e53590"
      },
      "execution_count": null,
      "outputs": [
        {
          "output_type": "stream",
          "name": "stdout",
          "text": [
            "10\n",
            "20\n",
            "30\n",
            "40\n",
            "50\n",
            "60\n",
            "70\n",
            "80\n",
            "90\n"
          ]
        }
      ]
    },
    {
      "cell_type": "code",
      "source": [
        "table=[lambda x=x:2*x for x in range(1,11)]\n",
        "for i in table:\n",
        "  print(i())"
      ],
      "metadata": {
        "colab": {
          "base_uri": "https://localhost:8080/"
        },
        "id": "sX8NqYiDCV6A",
        "outputId": "8d1de94a-f4f5-4ed9-f6aa-2e84e8003e6c"
      },
      "execution_count": null,
      "outputs": [
        {
          "output_type": "stream",
          "name": "stdout",
          "text": [
            "2\n",
            "4\n",
            "6\n",
            "8\n",
            "10\n",
            "12\n",
            "14\n",
            "16\n",
            "18\n",
            "20\n"
          ]
        }
      ]
    },
    {
      "cell_type": "code",
      "source": [
        "mylist=[2,1,12,24,23,45,56,78]\n",
        "print(mylist)"
      ],
      "metadata": {
        "colab": {
          "base_uri": "https://localhost:8080/"
        },
        "id": "zGajoiVeCi45",
        "outputId": "20a420d4-38fc-4b40-c64d-a586a7b450f3"
      },
      "execution_count": null,
      "outputs": [
        {
          "output_type": "stream",
          "name": "stdout",
          "text": [
            "[2, 1, 12, 24, 23, 45, 56, 78]\n"
          ]
        }
      ]
    },
    {
      "cell_type": "code",
      "source": [
        "evenlist=[]\n",
        "for x in mylist:\n",
        "  if x%2!=0:\n",
        "    evenlist.append(x)\n",
        "print(evenlist)"
      ],
      "metadata": {
        "colab": {
          "base_uri": "https://localhost:8080/"
        },
        "id": "nJKZUg0v4rVX",
        "outputId": "792a1bcb-a098-4392-8ec3-5bb94e0b6654"
      },
      "execution_count": null,
      "outputs": [
        {
          "output_type": "stream",
          "name": "stdout",
          "text": [
            "[1, 23, 45]\n"
          ]
        }
      ]
    },
    {
      "cell_type": "code",
      "source": [
        "oddlist=[]\n",
        "for x in mylist:\n",
        "  if x%3==0:\n",
        "    oddlist.append(x)\n",
        "print(oddlist)"
      ],
      "metadata": {
        "colab": {
          "base_uri": "https://localhost:8080/"
        },
        "id": "AZ5_ygbY5ZkB",
        "outputId": "0468d36e-1c0d-4e47-9c1d-e32cd1bd5f65"
      },
      "execution_count": null,
      "outputs": [
        {
          "output_type": "stream",
          "name": "stdout",
          "text": [
            "[12, 24, 45, 78]\n"
          ]
        }
      ]
    },
    {
      "cell_type": "code",
      "source": [
        "mylist=[2,1,12,24,23,45,56,78]\n",
        "mydic={}\n",
        "for y in mylist:\n",
        "  mydic[y]=y**2\n",
        "\n",
        "print(mydic)"
      ],
      "metadata": {
        "colab": {
          "base_uri": "https://localhost:8080/"
        },
        "id": "pCY9WheY5KeO",
        "outputId": "b9ab906a-01f0-4e11-bd57-b218f2a90715"
      },
      "execution_count": null,
      "outputs": [
        {
          "output_type": "stream",
          "name": "stdout",
          "text": [
            "{2: 4, 1: 1, 12: 144, 24: 576, 23: 529, 45: 2025, 56: 3136, 78: 6084}\n"
          ]
        }
      ]
    },
    {
      "cell_type": "code",
      "source": [
        "mydic={y:y**2 for y in mylist}\n",
        "print(mydic)"
      ],
      "metadata": {
        "colab": {
          "base_uri": "https://localhost:8080/"
        },
        "id": "NHvcOwYK_e65",
        "outputId": "0f2ed7f3-f957-4aa6-9267-c03e529fc88d"
      },
      "execution_count": null,
      "outputs": [
        {
          "output_type": "stream",
          "name": "stdout",
          "text": [
            "{2: 4, 1: 1, 12: 144, 24: 576, 23: 529, 45: 2025, 56: 3136, 78: 6084}\n"
          ]
        }
      ]
    },
    {
      "cell_type": "code",
      "source": [
        "even_set=set()\n",
        "for z in range(40):\n",
        "  if z%2==0:\n",
        "    even_set.add(z)\n",
        "print(even_set)"
      ],
      "metadata": {
        "colab": {
          "base_uri": "https://localhost:8080/"
        },
        "id": "jFtyrRzBBSB4",
        "outputId": "6aeeedeb-ff33-4c16-deb7-e87a88da0d37"
      },
      "execution_count": null,
      "outputs": [
        {
          "output_type": "stream",
          "name": "stdout",
          "text": [
            "{0, 2, 4, 6, 8, 10, 12, 14, 16, 18, 20, 22, 24, 26, 28, 30, 32, 34, 36, 38}\n"
          ]
        }
      ]
    },
    {
      "cell_type": "code",
      "source": [
        "s=set(i for i in range(50) if i%2==0)\n",
        "print(s)\n"
      ],
      "metadata": {
        "colab": {
          "base_uri": "https://localhost:8080/"
        },
        "id": "9KGGwwGHC9eN",
        "outputId": "0cefb00d-c826-4f19-e044-d1d4a919f1d2"
      },
      "execution_count": null,
      "outputs": [
        {
          "output_type": "stream",
          "name": "stdout",
          "text": [
            "{0, 2, 4, 6, 8, 10, 12, 14, 16, 18, 20, 22, 24, 26, 28, 30, 32, 34, 36, 38, 40, 42, 44, 46, 48}\n"
          ]
        }
      ]
    },
    {
      "cell_type": "code",
      "source": [
        "try:\n",
        "  print(\"Bhanu\")\n",
        "  print(asc)\n",
        "except:\n",
        "  print(\"Error occured\")"
      ],
      "metadata": {
        "colab": {
          "base_uri": "https://localhost:8080/"
        },
        "id": "HsaXV3xXGtF8",
        "outputId": "bdaf343b-0513-43ed-c6a2-116de732e058"
      },
      "execution_count": null,
      "outputs": [
        {
          "output_type": "stream",
          "name": "stdout",
          "text": [
            "Bhanu\n",
            "Error occured\n"
          ]
        }
      ]
    },
    {
      "cell_type": "code",
      "source": [
        "mylist=[1,2,33,45,69,56]\n",
        "try:\n",
        "  print(mylist[14])\n",
        "  print(mylist[4])\n",
        "except:\n",
        "  print(\"Partially work done\")\n",
        "\n"
      ],
      "metadata": {
        "colab": {
          "base_uri": "https://localhost:8080/"
        },
        "id": "Zszd3L_uHzbP",
        "outputId": "3ae0fbfd-e69e-44ec-a3ed-aa64ed335ec8"
      },
      "execution_count": null,
      "outputs": [
        {
          "output_type": "stream",
          "name": "stdout",
          "text": [
            "Partially work done\n"
          ]
        }
      ]
    },
    {
      "cell_type": "code",
      "source": [
        "try:\n",
        "  x=open(\"a.txt\",\"r\")\n",
        "  print(x.read())\n",
        "except:\n",
        "  print(\"File not found\")\n",
        "finally:\n",
        "  print(\"Thanku\")"
      ],
      "metadata": {
        "colab": {
          "base_uri": "https://localhost:8080/"
        },
        "id": "IpcYxnVTJSt8",
        "outputId": "787b9d11-e457-4317-e982-dc61f7457057"
      },
      "execution_count": null,
      "outputs": [
        {
          "output_type": "stream",
          "name": "stdout",
          "text": [
            "Hello all\n",
            "Thanku\n"
          ]
        }
      ]
    },
    {
      "cell_type": "code",
      "source": [
        "import re\n",
        "data=(\"Hello all this is bhanu\")\n",
        "print(data)\n",
        "a=re.search(\"this is\",data)\n",
        "print(a)\n",
        "print(\"start the value of index\",a.start())\n",
        "print(\"end of the index value\",a.end())\n"
      ],
      "metadata": {
        "colab": {
          "base_uri": "https://localhost:8080/"
        },
        "id": "PrBZb-vUOjof",
        "outputId": "461da090-4f81-4da7-abc9-9b501e2d2986"
      },
      "execution_count": null,
      "outputs": [
        {
          "output_type": "stream",
          "name": "stdout",
          "text": [
            "Hello all this is bhanu\n",
            "<re.Match object; span=(10, 17), match='this is'>\n",
            "start the value of index 10\n",
            "end of the index value 17\n"
          ]
        }
      ]
    },
    {
      "cell_type": "code",
      "source": [
        "import math\n",
        "print(math.sin(0.5))\n",
        "print(math.cos(0))\n",
        "print(math.pi)"
      ],
      "metadata": {
        "colab": {
          "base_uri": "https://localhost:8080/"
        },
        "id": "12ABib6mVYmQ",
        "outputId": "868d3e57-2cc0-4641-f52b-ba03103df55e"
      },
      "execution_count": null,
      "outputs": [
        {
          "output_type": "stream",
          "name": "stdout",
          "text": [
            "0.479425538604203\n",
            "1.0\n",
            "3.141592653589793\n"
          ]
        }
      ]
    },
    {
      "cell_type": "code",
      "source": [
        "import datetime\n",
        "print(datetime.datetime.now())"
      ],
      "metadata": {
        "colab": {
          "base_uri": "https://localhost:8080/"
        },
        "id": "vvgOynAhWLX_",
        "outputId": "b4ebfc78-118c-4241-b1e8-4b83b292bf48"
      },
      "execution_count": null,
      "outputs": [
        {
          "output_type": "stream",
          "name": "stdout",
          "text": [
            "2024-08-24 12:25:31.245699\n"
          ]
        }
      ]
    },
    {
      "cell_type": "code",
      "source": [
        "import module\n",
        "module.a(\"Bhanu\",\"Good night\")"
      ],
      "metadata": {
        "colab": {
          "base_uri": "https://localhost:8080/"
        },
        "id": "IB5bA6OyXs4S",
        "outputId": "3fe8a0a6-336a-4315-a0ab-845e0b842193"
      },
      "execution_count": null,
      "outputs": [
        {
          "output_type": "stream",
          "name": "stdout",
          "text": [
            "Good night Bhanu\n"
          ]
        }
      ]
    },
    {
      "cell_type": "code",
      "source": [
        "def calc():\n",
        "  print(\"\\n*****CALCULATOR*****\\n\")\n",
        "  num1=int(input(\"Enter the first number:\"))\n",
        "  num2=int(input(\"Enter the second number:\"))\n",
        "  file=open(\"result.txt\",\"a\")\n",
        "  print(\"\\n SYMBOLS : OPERATIONS \\n\\n + :SUM\\n - :SUBRACTION\\n * :MULTPLICATION\\n / :DIVISION\\n\")\n",
        "  choice=input(\"\\nEnter the symbol(+,-,*,/):\")\n",
        "  if (choice==\"+\"):\n",
        "    print(\"\\nThe sum of two numbers is:\", num1+num2)\n",
        "    file.write(f\"\\nThe sum of two numbers is: {num1+num2}\")\n",
        "    print(\"\\nData is recorded sucessfully\")\n",
        "  elif(choice==\"-\"):\n",
        "    print(\"\\nThe subraction of two numbers is:\", num1-num2)\n",
        "    file.write(f\"\\nThe subraction of two numbers is: {num1-num2}\")\n",
        "    print(\"\\nData is recorded sucessfully\")\n",
        "  elif(choice==\"*\"):\n",
        "    print(\"\\nThe multplication of two numbers is:\", num1*num2)\n",
        "    file.write(f\"\\nThe multplication of two numbers is: {num1*num2}\")\n",
        "    print(\"\\nData is recorded sucessfully\")\n",
        "  elif(choice==\"/\"):\n",
        "    print(\"\\nThe Division of two numbers is:\", num1/num2)\n",
        "    file.write(f\"\\nThe Division of two numbers is: {num1/num2}\")\n",
        "    print(\"\\nData is recorded sucessfully\")\n",
        "  else:\n",
        "    print(\"Enter valid symbol\")\n",
        "\n",
        "calc()\n",
        "\n",
        "\n",
        "\n",
        "\n",
        "\n",
        "\n",
        "\n",
        "\n",
        "\n",
        "\n",
        "\n"
      ],
      "metadata": {
        "colab": {
          "base_uri": "https://localhost:8080/"
        },
        "id": "MzXyzlTRhPkb",
        "outputId": "8a5bedcc-be29-4f3b-907f-5d8a3d8868a2"
      },
      "execution_count": null,
      "outputs": [
        {
          "output_type": "stream",
          "name": "stdout",
          "text": [
            "\n",
            "*****CALCULATOR*****\n",
            "\n",
            "Enter the first number:12\n",
            "Enter the second number:24\n",
            "\n",
            " SYMBOLS : OPERATIONS \n",
            "\n",
            " + :SUM\n",
            " - :SUBRACTION\n",
            " * :MULTPLICATION\n",
            " / :DIVISION\n",
            "\n",
            "\n",
            "Enter the symbol(+,-,*,/):+\n",
            "\n",
            "The sum of two numbers is: 36\n",
            "\n",
            "Data is recorded sucessfully\n"
          ]
        }
      ]
    },
    {
      "cell_type": "code",
      "source": [
        "#oops concept\n",
        "\n",
        "class laptop():\n",
        "  processor=\"intelI5\"\n",
        "  Display=\"Full HD\"\n",
        "\n",
        "obj1=laptop()\n",
        "obj2=laptop()\n",
        "print(obj1.processor)\n",
        "print(obj2.Display)"
      ],
      "metadata": {
        "id": "_akSMrm7lLo6",
        "colab": {
          "base_uri": "https://localhost:8080/"
        },
        "outputId": "2042bdad-44e2-4c24-8717-51d47e7d8b6c"
      },
      "execution_count": 2,
      "outputs": [
        {
          "output_type": "stream",
          "name": "stdout",
          "text": [
            "intelI5\n",
            "Full HD\n"
          ]
        }
      ]
    },
    {
      "cell_type": "code",
      "source": [
        "class account():\n",
        "  def __init__(self,username,password):\n",
        "    self.username=username\n",
        "    self.password=password\n"
      ],
      "metadata": {
        "id": "zX_-o_8qvzel"
      },
      "execution_count": 3,
      "outputs": []
    },
    {
      "cell_type": "code",
      "source": [
        "a=account(\"Admin\",\"Pass\")\n",
        "print(a.username)\n",
        "print(a.password)"
      ],
      "metadata": {
        "colab": {
          "base_uri": "https://localhost:8080/"
        },
        "id": "MO9IKXlqwk0_",
        "outputId": "6e755fbc-8393-432f-95ba-044980b80540"
      },
      "execution_count": 4,
      "outputs": [
        {
          "output_type": "stream",
          "name": "stdout",
          "text": [
            "Admin\n",
            "Pass\n"
          ]
        }
      ]
    }
  ]
}